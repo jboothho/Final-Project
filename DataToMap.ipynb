{
 "cells": [
  {
   "cell_type": "markdown",
   "id": "ebbd3cbe-abfc-4460-beb9-a88fd1989ca5",
   "metadata": {},
   "source": [
    "# Receiving C++ Statistical Analysis and Transforming to ArcGIS Online #"
   ]
  },
  {
   "cell_type": "markdown",
   "id": "aa04702c-bb44-4aa1-8108-7fdf1439bb22",
   "metadata": {},
   "source": [
    " First, import ArcGIS "
   ]
  },
  {
   "cell_type": "code",
   "execution_count": 1,
   "id": "5a2de92a-236b-4188-95e3-44dd776e6487",
   "metadata": {},
   "outputs": [
    {
     "name": "stderr",
     "output_type": "stream",
     "text": [
      "/Users/jboothhowe/anaconda3/envs/CSB3G/lib/python3.10/site-packages/dask/dataframe/__init__.py:31: FutureWarning: \n",
      "Dask dataframe query planning is disabled because dask-expr is not installed.\n",
      "\n",
      "You can install it with `pip install dask[dataframe]` or `conda install dask`.\n",
      "This will raise in a future version.\n",
      "\n",
      "  warnings.warn(msg, FutureWarning)\n"
     ]
    }
   ],
   "source": [
    "import arcgis\n",
    "import time\n",
    "from arcgis.widgets import MapView\n",
    "from arcgis.features import FeatureLayer\n",
    "from arcgis.gis import GIS\n",
    "gis = GIS()"
   ]
  },
  {
   "cell_type": "code",
   "execution_count": 13,
   "id": "fdb2f122-4b4e-46ac-812d-91e75b31e0bf",
   "metadata": {},
   "outputs": [
    {
     "data": {
      "application/vnd.jupyter.widget-view+json": {
       "model_id": "34c072865a8f4c45b357d0b5eeb44cc5",
       "version_major": 2,
       "version_minor": 0
      },
      "text/plain": [
       "MapView(layout=Layout(height='400px', width='100%'))"
      ]
     },
     "metadata": {},
     "output_type": "display_data"
    },
    {
     "data": {
      "text/html": [
       "<div class=\"map-static-img-preview-27f48919-5c17-490d-9c0d-acac28c654bb\"><img src=\"\"></img></div>"
      ],
      "text/plain": [
       "<IPython.core.display.HTML object>"
      ]
     },
     "metadata": {},
     "output_type": "display_data"
    },
    {
     "data": {
      "text/html": [
       "<div class=\"map-html-embed-preview-27f48919-5c17-490d-9c0d-acac28c654bb\"></div>"
      ],
      "text/plain": [
       "<IPython.core.display.HTML object>"
      ]
     },
     "metadata": {},
     "output_type": "display_data"
    }
   ],
   "source": [
    "m = gis.map('New York, ME')\n",
    "m"
   ]
  },
  {
   "cell_type": "code",
   "execution_count": 5,
   "id": "7700ab12-b3de-4c56-b47f-ff8e0c303e33",
   "metadata": {},
   "outputs": [
    {
     "data": {
      "text/plain": [
       "['dark-gray-vector',\n",
       " 'gray-vector',\n",
       " 'hybrid',\n",
       " 'oceans',\n",
       " 'osm',\n",
       " 'satellite',\n",
       " 'streets-navigation-vector',\n",
       " 'streets-night-vector',\n",
       " 'streets-relief-vector',\n",
       " 'streets-vector',\n",
       " 'terrain',\n",
       " 'topo-vector']"
      ]
     },
     "execution_count": 5,
     "metadata": {},
     "output_type": "execute_result"
    }
   ],
   "source": [
    "m.basemaps"
   ]
  },
  {
   "cell_type": "code",
   "execution_count": 6,
   "id": "4556392d-b01f-4dfe-96d3-f4bb5bedda83",
   "metadata": {},
   "outputs": [
    {
     "name": "stdout",
     "output_type": "stream",
     "text": [
      "default\n",
      "dark-gray-vector\n"
     ]
    }
   ],
   "source": [
    "for bm in m.basemaps[::10]:\n",
    "    print(m.basemap)\n",
    "    m.basemap = bm    "
   ]
  },
  {
   "cell_type": "code",
   "execution_count": 7,
   "id": "2590e939",
   "metadata": {},
   "outputs": [
    {
     "data": {
      "application/vnd.jupyter.widget-view+json": {
       "model_id": "7add701a393a42a0a6f785ddf7e651dc",
       "version_major": 2,
       "version_minor": 0
      },
      "text/plain": [
       "MapView(jupyter_target='notebook', layout=Layout(height='400px', width='100%'), ready=True)"
      ]
     },
     "metadata": {},
     "output_type": "display_data"
    },
    {
     "data": {
      "text/html": [
       "<div class=\"map-static-img-preview-4615ec4b-470c-451c-b9cb-1580f9682239\"><img src=\"\"></img></div>"
      ],
      "text/plain": [
       "<IPython.core.display.HTML object>"
      ]
     },
     "metadata": {},
     "output_type": "display_data"
    },
    {
     "data": {
      "text/html": [
       "<div class=\"map-html-embed-preview-4615ec4b-470c-451c-b9cb-1580f9682239\"></div>"
      ],
      "text/plain": [
       "<IPython.core.display.HTML object>"
      ]
     },
     "metadata": {},
     "output_type": "display_data"
    }
   ],
   "source": [
    "m"
   ]
  },
  {
   "cell_type": "code",
   "execution_count": null,
   "id": "c8ba72da",
   "metadata": {},
   "outputs": [],
   "source": []
  }
 ],
 "metadata": {
  "kernelspec": {
   "display_name": "Python 3 (ipykernel)",
   "language": "python",
   "name": "python3"
  },
  "language_info": {
   "codemirror_mode": {
    "name": "ipython",
    "version": 3
   },
   "file_extension": ".py",
   "mimetype": "text/x-python",
   "name": "python",
   "nbconvert_exporter": "python",
   "pygments_lexer": "ipython3",
   "version": "3.10.8"
  }
 },
 "nbformat": 4,
 "nbformat_minor": 5
}

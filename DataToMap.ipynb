{
 "cells": [
  {
   "cell_type": "markdown",
   "id": "ebbd3cbe-abfc-4460-beb9-a88fd1989ca5",
   "metadata": {},
   "source": [
    "# Receiving C++ Statistical Analysis and Transforming to ArcGIS Online #"
   ]
  },
  {
   "cell_type": "markdown",
   "id": "aa04702c-bb44-4aa1-8108-7fdf1439bb22",
   "metadata": {},
   "source": [
    " First, import ArcGIS "
   ]
  },
  {
   "cell_type": "code",
   "execution_count": 11,
   "id": "5a2de92a-236b-4188-95e3-44dd776e6487",
   "metadata": {},
   "outputs": [],
   "source": [
    "import arcgis\n",
    "import time\n",
    "from arcgis.widgets import MapView\n",
    "from arcgis.features import FeatureLayer\n",
    "from arcgis.gis import GIS\n",
    "gis = GIS()"
   ]
  },
  {
   "cell_type": "code",
   "execution_count": 20,
   "id": "fdb2f122-4b4e-46ac-812d-91e75b31e0bf",
   "metadata": {},
   "outputs": [
    {
     "ename": "AttributeError",
     "evalue": "'NoneType' object has no attribute 'json'",
     "output_type": "error",
     "traceback": [
      "\u001b[0;31m---------------------------------------------------------------------------\u001b[0m",
      "\u001b[0;31mAttributeError\u001b[0m                            Traceback (most recent call last)",
      "Cell \u001b[0;32mIn[20], line 4\u001b[0m\n\u001b[1;32m      2\u001b[0m fl_url \u001b[38;5;241m=\u001b[39m \u001b[38;5;124m\"\u001b[39m\u001b[38;5;124mhttps://gis.bostonplans.org/hosting/rest/services/Hosted/Boston_Neighborhood_Boundaries/FeatureServer\u001b[39m\u001b[38;5;124m\"\u001b[39m\n\u001b[1;32m      3\u001b[0m boston_neighborhoods \u001b[38;5;241m=\u001b[39m FeatureLayer(fl_url)\n\u001b[0;32m----> 4\u001b[0m \u001b[43mm\u001b[49m\u001b[38;5;241;43m.\u001b[39;49m\u001b[43madd_layer\u001b[49m\u001b[43m(\u001b[49m\u001b[43mboston_neighborhoods\u001b[49m\u001b[43m)\u001b[49m\n",
      "File \u001b[0;32m~/anaconda3/envs/CSB3G/lib/python3.10/site-packages/arcgis/widgets/_mapview/_mapview.py:1535\u001b[0m, in \u001b[0;36mMapView.add_layer\u001b[0;34m(self, item, options)\u001b[0m\n\u001b[1;32m   1533\u001b[0m     options \u001b[38;5;241m=\u001b[39m {}\n\u001b[1;32m   1534\u001b[0m \u001b[38;5;28;01mif\u001b[39;00m \u001b[38;5;28misinstance\u001b[39m(item, arcgis\u001b[38;5;241m.\u001b[39mfeatures\u001b[38;5;241m.\u001b[39mFeatureLayer) \u001b[38;5;129;01mand\u001b[39;00m \u001b[38;5;124m\"\u001b[39m\u001b[38;5;124mrenderer\u001b[39m\u001b[38;5;124m\"\u001b[39m \u001b[38;5;129;01mnot\u001b[39;00m \u001b[38;5;129;01min\u001b[39;00m options:\n\u001b[0;32m-> 1535\u001b[0m     renderer_dict \u001b[38;5;241m=\u001b[39m json\u001b[38;5;241m.\u001b[39mloads(\u001b[43mitem\u001b[49m\u001b[38;5;241;43m.\u001b[39;49m\u001b[43mrenderer\u001b[49m\u001b[38;5;241;43m.\u001b[39;49m\u001b[43mjson\u001b[49m)\n\u001b[1;32m   1536\u001b[0m     \u001b[38;5;28;01mif\u001b[39;00m \u001b[38;5;124m\"\u001b[39m\u001b[38;5;124mrenderer\u001b[39m\u001b[38;5;124m\"\u001b[39m \u001b[38;5;129;01min\u001b[39;00m renderer_dict\u001b[38;5;241m.\u001b[39mkeys():\n\u001b[1;32m   1537\u001b[0m         options\u001b[38;5;241m.\u001b[39mupdate(renderer_dict)\n",
      "\u001b[0;31mAttributeError\u001b[0m: 'NoneType' object has no attribute 'json'"
     ]
    }
   ],
   "source": [
    "m = gis.map('Boston, MA')\n",
    "fl_url = \"https://gis.bostonplans.org/hosting/rest/services/Hosted/Boston_Neighborhood_Boundaries/FeatureServer\"\n",
    "boston_neighborhoods = FeatureLayer(fl_url)\n",
    "m.add_layer(boston_neighborhoods)"
   ]
  },
  {
   "cell_type": "code",
   "execution_count": 5,
   "id": "7700ab12-b3de-4c56-b47f-ff8e0c303e33",
   "metadata": {},
   "outputs": [
    {
     "data": {
      "text/plain": [
       "['dark-gray-vector',\n",
       " 'gray-vector',\n",
       " 'hybrid',\n",
       " 'oceans',\n",
       " 'osm',\n",
       " 'satellite',\n",
       " 'streets-navigation-vector',\n",
       " 'streets-night-vector',\n",
       " 'streets-relief-vector',\n",
       " 'streets-vector',\n",
       " 'terrain',\n",
       " 'topo-vector']"
      ]
     },
     "execution_count": 5,
     "metadata": {},
     "output_type": "execute_result"
    }
   ],
   "source": [
    "m.basemaps"
   ]
  },
  {
   "cell_type": "code",
   "execution_count": 9,
   "id": "4556392d-b01f-4dfe-96d3-f4bb5bedda83",
   "metadata": {},
   "outputs": [
    {
     "name": "stdout",
     "output_type": "stream",
     "text": [
      "terrain\n",
      "dark-gray-vector\n"
     ]
    }
   ],
   "source": [
    "for bm in m.basemaps[::10]:\n",
    "    print(m.basemap)\n",
    "    m.basemap = bm    "
   ]
  },
  {
   "cell_type": "code",
   "execution_count": 7,
   "id": "2590e939",
   "metadata": {},
   "outputs": [
    {
     "data": {
      "application/vnd.jupyter.widget-view+json": {
       "model_id": "7add701a393a42a0a6f785ddf7e651dc",
       "version_major": 2,
       "version_minor": 0
      },
      "text/plain": [
       "MapView(jupyter_target='notebook', layout=Layout(height='400px', width='100%'), ready=True)"
      ]
     },
     "metadata": {},
     "output_type": "display_data"
    },
    {
     "data": {
      "text/html": [
       "<div class=\"map-static-img-preview-4615ec4b-470c-451c-b9cb-1580f9682239\"><img src=\"\"></img></div>"
      ],
      "text/plain": [
       "<IPython.core.display.HTML object>"
      ]
     },
     "metadata": {},
     "output_type": "display_data"
    },
    {
     "data": {
      "text/html": [
       "<div class=\"map-html-embed-preview-4615ec4b-470c-451c-b9cb-1580f9682239\"></div>"
      ],
      "text/plain": [
       "<IPython.core.display.HTML object>"
      ]
     },
     "metadata": {},
     "output_type": "display_data"
    }
   ],
   "source": [
    "m"
   ]
  },
  {
   "cell_type": "code",
   "execution_count": null,
   "id": "c8ba72da",
   "metadata": {},
   "outputs": [],
   "source": []
  }
 ],
 "metadata": {
  "kernelspec": {
   "display_name": "Python 3 (ipykernel)",
   "language": "python",
   "name": "python3"
  },
  "language_info": {
   "codemirror_mode": {
    "name": "ipython",
    "version": 3
   },
   "file_extension": ".py",
   "mimetype": "text/x-python",
   "name": "python",
   "nbconvert_exporter": "python",
   "pygments_lexer": "ipython3",
   "version": "3.10.8"
  }
 },
 "nbformat": 4,
 "nbformat_minor": 5
}

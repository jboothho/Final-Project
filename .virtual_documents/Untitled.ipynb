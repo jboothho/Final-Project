





import arcgis
from arcgis.gis import GIS
gis = GIS()




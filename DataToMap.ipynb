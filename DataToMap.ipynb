{
 "cells": [
  {
   "cell_type": "markdown",
   "id": "ebbd3cbe-abfc-4460-beb9-a88fd1989ca5",
   "metadata": {},
   "source": [
    "# Receiving C++ Data and Transforming to ArcGIS Online #"
   ]
  },
  {
   "cell_type": "markdown",
   "id": "aa04702c-bb44-4aa1-8108-7fdf1439bb22",
   "metadata": {},
   "source": [
    " First, import ArcGIS "
   ]
  },
  {
   "cell_type": "code",
   "execution_count": null,
   "id": "5a2de92a-236b-4188-95e3-44dd776e6487",
   "metadata": {},
   "outputs": [],
   "source": [
    "import pandas as pd\n",
    "import matplotlib.pyplot as plt\n",
    "from arcgis.widgets import MapView\n",
    "from arcgis.features import FeatureLayer\n",
    "from arcgis.gis import GIS\n",
    "from arcgis import features\n",
    "from arcgis.features import FeatureCollection\n",
    "from arcgis.features import GeoAccessor, GeoSeriesAccessor\n",
    "from arcgis.geocoding import geocode\n",
    "from arcgis.features.analysis import join_features\n",
    "from scipy import stats"
   ]
  },
  {
   "cell_type": "code",
   "execution_count": 107,
   "id": "0c3fb23e",
   "metadata": {},
   "outputs": [],
   "source": [
    "gis = GIS(\n",
    "  url=\"https://www.arcgis.com\",\n",
    "  username=\"jboothhowe\",\n",
    "  password=\"Jujubeads777!\")"
   ]
  },
  {
   "cell_type": "code",
   "execution_count": 111,
   "id": "209eb69e",
   "metadata": {},
   "outputs": [],
   "source": [
    "data_properties = {\n",
    "  \"title\": \"Environmental Health\",\n",
    "  \"description\": \"Environmental Health data imported from C++ function\",\n",
    "  \"tags\": \"Boston MA\"\n",
    "}\n",
    "csv_filepath = \"/Users/jboothhowe/Documents/CS2300/Final-Project/cmake-build-debug/DataToMap.csv\"\n",
    "data = pd.read_csv(csv_filepath)\n",
    "csv_item = gis.content.add(data_properties, csv_filepath)\n",
    "boston_health = csv_item.publish()"
   ]
  },
  {
   "cell_type": "code",
   "execution_count": 134,
   "id": "dcc6f20c",
   "metadata": {},
   "outputs": [],
   "source": [
    "# Extract variables GeoID, UrbanHeat_Variable, SVI_Variable from DataFrame\n",
    "geoID = data['GeoID'].tolist()  # Convert GeoID column to list\n",
    "urban_heat = data['UrbanHeat_Variable'].tolist()  # Convert UrbanHeat_Variable column to list\n",
    "svi_variable = data['SVI_Variable'].tolist()  # Convert SVI_Variable column to list"
   ]
  },
  {
   "cell_type": "code",
   "execution_count": null,
   "id": "65080ff4",
   "metadata": {},
   "outputs": [],
   "source": []
  },
  {
   "cell_type": "code",
   "execution_count": 116,
   "id": "9996715c",
   "metadata": {},
   "outputs": [],
   "source": [
    "## Now importing the shapefile for the Boston 2010 census\n",
    "boston_census = {\n",
    "    'title': 'Boston 2010 Census Tracts',\n",
    "    'tags':'boston, 2010, census',\n",
    "    'type': 'Shapefile'\n",
    "}"
   ]
  },
  {
   "cell_type": "code",
   "execution_count": 117,
   "id": "7194f7a5",
   "metadata": {},
   "outputs": [
    {
     "data": {
      "text/html": [
       "<div class=\"item_container\" style=\"height: auto; overflow: hidden; border: 1px solid #cfcfcf; border-radius: 2px; background: #f6fafa; line-height: 1.21429em; padding: 10px;\">\n",
       "                    <div class=\"item_left\" style=\"width: 210px; float: left;\">\n",
       "                       <a href='https://JuliaBH.maps.arcgis.com/home/item.html?id=cc50a1aebcd24f39a339180075e7247b' target='_blank'>\n",
       "                        <img src='http://static.arcgis.com/images/desktopapp.png' class=\"itemThumbnail\">\n",
       "                       </a>\n",
       "                    </div>\n",
       "\n",
       "                    <div class=\"item_right\"     style=\"float: none; width: auto; overflow: hidden;\">\n",
       "                        <a href='https://JuliaBH.maps.arcgis.com/home/item.html?id=cc50a1aebcd24f39a339180075e7247b' target='_blank'><b>Boston 2010 Census Tracts</b>\n",
       "                        </a>\n",
       "                        <br/><img src='https://JuliaBH.maps.arcgis.com/home/js/jsapi/esri/css/images/item_type_icons/datafiles16.png' style=\"vertical-align:middle;\" width=16 height=16>Shapefile by jboothhowe\n",
       "                        <br/>Last Modified: May 09, 2024\n",
       "                        <br/>0 comments, 0 views\n",
       "                    </div>\n",
       "                </div>\n",
       "                "
      ],
      "text/plain": [
       "<Item title:\"Boston 2010 Census Tracts\" type:Shapefile owner:jboothhowe>"
      ]
     },
     "execution_count": 117,
     "metadata": {},
     "output_type": "execute_result"
    }
   ],
   "source": [
    "data_file_location = \"/Users/jboothhowe/Documents/CS2300/Final-Project/Census_2010_Tracts.zip\" # relative path to notebook\n",
    "shp_item = gis.content.add(boston_census, data=data_file_location)\n",
    "shp_item"
   ]
  },
  {
   "cell_type": "code",
   "execution_count": 118,
   "id": "8aacf102",
   "metadata": {},
   "outputs": [
    {
     "data": {
      "text/html": [
       "<div class=\"item_container\" style=\"height: auto; overflow: hidden; border: 1px solid #cfcfcf; border-radius: 2px; background: #f6fafa; line-height: 1.21429em; padding: 10px;\">\n",
       "                    <div class=\"item_left\" style=\"width: 210px; float: left;\">\n",
       "                       <a href='https://JuliaBH.maps.arcgis.com/home/item.html?id=72b9c5a2ac7742e49354cdad41368236' target='_blank'>\n",
       "                        <img src='http://static.arcgis.com/images/desktopapp.png' class=\"itemThumbnail\">\n",
       "                       </a>\n",
       "                    </div>\n",
       "\n",
       "                    <div class=\"item_right\"     style=\"float: none; width: auto; overflow: hidden;\">\n",
       "                        <a href='https://JuliaBH.maps.arcgis.com/home/item.html?id=72b9c5a2ac7742e49354cdad41368236' target='_blank'><b>Boston 2010 Census Tracts</b>\n",
       "                        </a>\n",
       "                        <br/><img src='https://JuliaBH.maps.arcgis.com/home/js/jsapi/esri/css/images/item_type_icons/featureshosted16.png' style=\"vertical-align:middle;\" width=16 height=16>Feature Layer Collection by jboothhowe\n",
       "                        <br/>Last Modified: May 09, 2024\n",
       "                        <br/>0 comments, 0 views\n",
       "                    </div>\n",
       "                </div>\n",
       "                "
      ],
      "text/plain": [
       "<Item title:\"Boston 2010 Census Tracts\" type:Feature Layer Collection owner:jboothhowe>"
      ]
     },
     "execution_count": 118,
     "metadata": {},
     "output_type": "execute_result"
    }
   ],
   "source": [
    "boston_census_feature_layer = shp_item.publish()\n",
    "boston_census_feature_layer"
   ]
  },
  {
   "cell_type": "code",
   "execution_count": 119,
   "id": "fdb2f122-4b4e-46ac-812d-91e75b31e0bf",
   "metadata": {
    "scrolled": false
   },
   "outputs": [
    {
     "data": {
      "application/vnd.jupyter.widget-view+json": {
       "model_id": "4c7f7470f2a84c98b1b4067fd703a5e4",
       "version_major": 2,
       "version_minor": 0
      },
      "text/plain": [
       "MapView(layout=Layout(height='400px', width='100%'))"
      ]
     },
     "metadata": {},
     "output_type": "display_data"
    },
    {
     "data": {
      "text/html": [
       "<div class=\"map-static-img-preview-b5858925-dbc2-48c8-9ed5-d96f63f86fd1\"><img src=\"\"></img></div>"
      ],
      "text/plain": [
       "<IPython.core.display.HTML object>"
      ]
     },
     "metadata": {},
     "output_type": "display_data"
    },
    {
     "data": {
      "text/html": [
       "<div class=\"map-html-embed-preview-b5858925-dbc2-48c8-9ed5-d96f63f86fd1\"></div>"
      ],
      "text/plain": [
       "<IPython.core.display.HTML object>"
      ]
     },
     "metadata": {},
     "output_type": "display_data"
    }
   ],
   "source": [
    "m = gis.map(\"Boston, MA\")\n",
    "m.add_layer(boston_census_feature_layer)\n",
    "m"
   ]
  },
  {
   "cell_type": "code",
   "execution_count": 130,
   "id": "4ac79ff4",
   "metadata": {},
   "outputs": [],
   "source": [
    "# Convert 'GEOID10' field to a long integer\n",
    "boston_census_layer = boston_census_feature_layer.layers[0]  # Assuming boston_census_feature_layer is a feature layer\n",
    "boston_census_layer.filter = \"1=1\"  # Retrieve all features\n",
    "features = boston_census_layer.query(return_ids_only=False).features\n",
    "for feature in features:\n",
    "    try:\n",
    "        feature.attributes['GEOID10'] = int(feature.attributes['GEOID10'])\n",
    "    except ValueError:\n",
    "        # Handle non-integer values if necessary\n",
    "        pass"
   ]
  },
  {
   "cell_type": "code",
   "execution_count": 133,
   "id": "bb909f3f",
   "metadata": {},
   "outputs": [
    {
     "ename": "AttributeError",
     "evalue": "'NoneType' object has no attribute '_tbx'",
     "output_type": "error",
     "traceback": [
      "\u001b[0;31m---------------------------------------------------------------------------\u001b[0m",
      "\u001b[0;31mAttributeError\u001b[0m                            Traceback (most recent call last)",
      "Cell \u001b[0;32mIn[133], line 6\u001b[0m\n\u001b[1;32m      3\u001b[0m joinLayer \u001b[38;5;241m=\u001b[39m boston_health\n\u001b[1;32m      5\u001b[0m \u001b[38;5;66;03m# Perform join operation\u001b[39;00m\n\u001b[0;32m----> 6\u001b[0m results \u001b[38;5;241m=\u001b[39m \u001b[43mjoin_features\u001b[49m\u001b[43m(\u001b[49m\n\u001b[1;32m      7\u001b[0m \u001b[43m    \u001b[49m\u001b[43mtarget_layer\u001b[49m\u001b[38;5;241;43m=\u001b[39;49m\u001b[43mtargetLayer\u001b[49m\u001b[43m,\u001b[49m\n\u001b[1;32m      8\u001b[0m \u001b[43m    \u001b[49m\u001b[43mjoin_layer\u001b[49m\u001b[38;5;241;43m=\u001b[39;49m\u001b[43mjoinLayer\u001b[49m\u001b[43m,\u001b[49m\n\u001b[1;32m      9\u001b[0m \u001b[43m    \u001b[49m\u001b[43mjoin_operation\u001b[49m\u001b[38;5;241;43m=\u001b[39;49m\u001b[38;5;124;43m\"\u001b[39;49m\u001b[38;5;124;43mjoinOneToOne\u001b[39;49m\u001b[38;5;124;43m\"\u001b[39;49m\u001b[43m,\u001b[49m\n\u001b[1;32m     10\u001b[0m \u001b[43m    \u001b[49m\u001b[43mattribute_relationship\u001b[49m\u001b[38;5;241;43m=\u001b[39;49m\u001b[43m[\u001b[49m\n\u001b[1;32m     11\u001b[0m \u001b[43m        \u001b[49m\u001b[43m{\u001b[49m\n\u001b[1;32m     12\u001b[0m \u001b[43m            \u001b[49m\u001b[38;5;124;43m\"\u001b[39;49m\u001b[38;5;124;43mtargetField\u001b[39;49m\u001b[38;5;124;43m\"\u001b[39;49m\u001b[43m:\u001b[49m\u001b[43m \u001b[49m\u001b[38;5;124;43m\"\u001b[39;49m\u001b[38;5;124;43mGEOID10\u001b[39;49m\u001b[38;5;124;43m\"\u001b[39;49m\u001b[43m,\u001b[49m\n\u001b[1;32m     13\u001b[0m \u001b[43m            \u001b[49m\u001b[38;5;124;43m\"\u001b[39;49m\u001b[38;5;124;43moperator\u001b[39;49m\u001b[38;5;124;43m\"\u001b[39;49m\u001b[43m:\u001b[49m\u001b[43m \u001b[49m\u001b[38;5;124;43m\"\u001b[39;49m\u001b[38;5;124;43mequal\u001b[39;49m\u001b[38;5;124;43m\"\u001b[39;49m\u001b[43m,\u001b[49m\n\u001b[1;32m     14\u001b[0m \u001b[43m            \u001b[49m\u001b[38;5;124;43m\"\u001b[39;49m\u001b[38;5;124;43mjoinField\u001b[39;49m\u001b[38;5;124;43m\"\u001b[39;49m\u001b[43m:\u001b[49m\u001b[43m \u001b[49m\u001b[38;5;124;43m\"\u001b[39;49m\u001b[38;5;124;43mGeoID\u001b[39;49m\u001b[38;5;124;43m\"\u001b[39;49m\u001b[43m,\u001b[49m\n\u001b[1;32m     15\u001b[0m \u001b[43m        \u001b[49m\u001b[43m}\u001b[49m\n\u001b[1;32m     16\u001b[0m \u001b[43m    \u001b[49m\u001b[43m]\u001b[49m\u001b[43m,\u001b[49m\n\u001b[1;32m     17\u001b[0m \u001b[43m    \u001b[49m\u001b[43moutput_name\u001b[49m\u001b[38;5;241;43m=\u001b[39;49m\u001b[38;5;124;43m\"\u001b[39;49m\u001b[38;5;124;43mJoin features\u001b[39;49m\u001b[38;5;124;43m\"\u001b[39;49m\n\u001b[1;32m     18\u001b[0m \u001b[43m)\u001b[49m\n",
      "File \u001b[0;32m~/anaconda3/envs/CSB3G/lib/python3.10/site-packages/arcgis/features/summarize_data.py:960\u001b[0m, in \u001b[0;36mjoin_features\u001b[0;34m(target_layer, join_layer, spatial_relationship, spatial_relationship_distance, spatial_relationship_distance_units, attribute_relationship, join_operation, summary_fields, output_name, context, gis, estimate, future, join_type, records_to_match)\u001b[0m\n\u001b[1;32m    942\u001b[0m kwargs \u001b[38;5;241m=\u001b[39m {\n\u001b[1;32m    943\u001b[0m     \u001b[38;5;124m\"\u001b[39m\u001b[38;5;124mtarget_layer\u001b[39m\u001b[38;5;124m\"\u001b[39m: target_layer,\n\u001b[1;32m    944\u001b[0m     \u001b[38;5;124m\"\u001b[39m\u001b[38;5;124mjoin_layer\u001b[39m\u001b[38;5;124m\"\u001b[39m: join_layer,\n\u001b[0;32m   (...)\u001b[0m\n\u001b[1;32m    956\u001b[0m     \u001b[38;5;124m\"\u001b[39m\u001b[38;5;124mrecords_to_match\u001b[39m\u001b[38;5;124m\"\u001b[39m: records_to_match,\n\u001b[1;32m    957\u001b[0m }\n\u001b[1;32m    958\u001b[0m gis \u001b[38;5;241m=\u001b[39m _arcgis\u001b[38;5;241m.\u001b[39menv\u001b[38;5;241m.\u001b[39mactive_gis \u001b[38;5;28;01mif\u001b[39;00m gis \u001b[38;5;129;01mis\u001b[39;00m \u001b[38;5;28;01mNone\u001b[39;00m \u001b[38;5;28;01melse\u001b[39;00m gis\n\u001b[1;32m    959\u001b[0m params \u001b[38;5;241m=\u001b[39m inspect_function_inputs(\n\u001b[0;32m--> 960\u001b[0m     fn\u001b[38;5;241m=\u001b[39m\u001b[43mgis\u001b[49m\u001b[38;5;241;43m.\u001b[39;49m\u001b[43m_tools\u001b[49m\u001b[38;5;241;43m.\u001b[39;49m\u001b[43mfeatureanalysis\u001b[49m\u001b[38;5;241;43m.\u001b[39;49m\u001b[43m_tbx\u001b[49m\u001b[38;5;241m.\u001b[39mjoin_features, \u001b[38;5;241m*\u001b[39m\u001b[38;5;241m*\u001b[39mkwargs\n\u001b[1;32m    961\u001b[0m )\n\u001b[1;32m    962\u001b[0m \u001b[38;5;28;01mif\u001b[39;00m \u001b[38;5;129;01mnot\u001b[39;00m estimate \u001b[38;5;129;01mis\u001b[39;00m \u001b[38;5;28;01mNone\u001b[39;00m:\n\u001b[1;32m    963\u001b[0m     params[\u001b[38;5;124m\"\u001b[39m\u001b[38;5;124mestimate\u001b[39m\u001b[38;5;124m\"\u001b[39m] \u001b[38;5;241m=\u001b[39m estimate\n",
      "\u001b[0;31mAttributeError\u001b[0m: 'NoneType' object has no attribute '_tbx'"
     ]
    }
   ],
   "source": [
    "targetLayer = boston_census_layer\n",
    "\n",
    "joinLayer = boston_health\n",
    "\n",
    "# Perform join operation\n",
    "results = join_features(\n",
    "    target_layer=targetLayer,\n",
    "    join_layer=joinLayer,\n",
    "    join_operation=\"joinOneToOne\",\n",
    "    attribute_relationship=[\n",
    "        {\n",
    "            \"targetField\": \"GEOID10\",\n",
    "            \"operator\": \"equal\",\n",
    "            \"joinField\": \"GeoID\",\n",
    "        }\n",
    "    ],\n",
    "    output_name=\"Join features\"\n",
    ")\n",
    "join_features(target_layer, join_layer, spatial_relationship, \n",
    "              spatial_relationship_distance, spatial_relationship_distance_units,\n",
    "              attribute_relationship, join_operation, summary_fields, output_name, context, gis, estimate, future, join_type, records_to_match)"
   ]
  }
 ],
 "metadata": {
  "kernelspec": {
   "display_name": "Python 3 (ipykernel)",
   "language": "python",
   "name": "python3"
  },
  "language_info": {
   "codemirror_mode": {
    "name": "ipython",
    "version": 3
   },
   "file_extension": ".py",
   "mimetype": "text/x-python",
   "name": "python",
   "nbconvert_exporter": "python",
   "pygments_lexer": "ipython3",
   "version": "3.10.8"
  }
 },
 "nbformat": 4,
 "nbformat_minor": 5
}
